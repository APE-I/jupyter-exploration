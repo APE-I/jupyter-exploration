{
 "cells": [
  {
   "cell_type": "markdown",
   "id": "47e66b21",
   "metadata": {},
   "source": [
    "Code cells are used to write and execute code. When you use a code cell certain keywords will highlight automatically like \"True and or False while for in ...\" When code is executed, the output is shown directly below the cell."
   ]
  },
  {
   "cell_type": "markdown",
   "id": "49431bf9",
   "metadata": {},
   "source": [
    "Markdown cells contain text formatted using Markdown which is a lightweight markup language. Markdown cells are used to add narrative, explanation or documentation to the notebook. Markdown supports various html formatting features like headers, bullet and numbered lists etc. These are non-executable."
   ]
  },
  {
   "cell_type": "code",
   "execution_count": 1,
   "id": "a6eee9b1",
   "metadata": {},
   "outputs": [
    {
     "name": "stdout",
     "output_type": "stream",
     "text": [
      "Hello World\n"
     ]
    }
   ],
   "source": [
    "print('Hello World')"
   ]
  },
  {
   "cell_type": "markdown",
   "id": "b50a88e0",
   "metadata": {},
   "source": [
    "<strong> <h1>This is my first markdown cell in Jupyter </strong> </h1>"
   ]
  },
  {
   "cell_type": "code",
   "execution_count": null,
   "id": "a7189396",
   "metadata": {},
   "outputs": [],
   "source": []
  }
 ],
 "metadata": {
  "kernelspec": {
   "display_name": "Python 3 (ipykernel)",
   "language": "python",
   "name": "python3"
  },
  "language_info": {
   "codemirror_mode": {
    "name": "ipython",
    "version": 3
   },
   "file_extension": ".py",
   "mimetype": "text/x-python",
   "name": "python",
   "nbconvert_exporter": "python",
   "pygments_lexer": "ipython3",
   "version": "3.11.4"
  }
 },
 "nbformat": 4,
 "nbformat_minor": 5
}
